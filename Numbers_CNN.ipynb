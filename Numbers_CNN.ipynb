{
 "cells": [
 
  {
   "cell_type": "code",
   "execution_count": null,
   "metadata": {
    "colab": {},
    "colab_type": "code",
    "id": "5_g_siNBgmJj"
   },
   "outputs": [],
   "source": []
  },
  {
   "cell_type": "code",
   "execution_count": null,
   "metadata": {
    "colab": {},
    "colab_type": "code",
    "id": "47LxotxEhgyz"
   },
   "outputs": [],
   "source": [
    "import numpy as np\n",
    "import tensorflow as tf\n",
    "import cv2\n",
    "import os\n",
    "from glob import glob\n",
    "\n",
    "import matplotlib.pyplot as plt"
   ]
  },
  {
   "cell_type": "code",
   "execution_count": null,
   "metadata": {
    "colab": {},
    "colab_type": "code",
    "id": "wIDwqeBniWIk"
   },
   "outputs": [],
   "source": [
    "from tensorflow.keras.layers import Input, Conv2D, MaxPool2D, Dense, Dropout, Flatten\n",
    "from tensorflow.keras.models import Model\n",
    "from tensorflow.keras.preprocessing.image import ImageDataGenerator\n",
    "%matplotlib inline"
   ]
  },
  {
   "cell_type": "code",
   "execution_count": null,
   "metadata": {
    "colab": {
     "base_uri": "https://localhost:8080/",
     "height": 34
    },
    "colab_type": "code",
    "id": "S6c7F4Pfihdh",
    "outputId": "8cd7e716-8bc1-46db-e5d3-063aa3f1a480"
   },
   "outputs": [],
   "source": [
    "folder_path = \"data/extracted_images\"\n",
    "files = glob(folder_path + '/*/*.jpg')\n",
    "print(len(files))"
   ]
  },
  {
   "cell_type": "code",
   "execution_count": 4,
   "metadata": {
    "colab": {
     "base_uri": "https://localhost:8080/",
     "height": 62
    },
    "colab_type": "code",
    "id": "lR9NAhRAjevy",
    "outputId": "3c99ee3f-ae1c-4149-84a5-ad0752dcd872"
   },
   "outputs": [
    {
     "data": {
      "text/plain": [
       "<matplotlib.image.AxesImage at 0x15f8df13cc8>"
      ]
     },
     "execution_count": 4,
     "metadata": {},
     "output_type": "execute_result"
    },
    {
     "data": {
      "image/png": "[encoded data removed]",
      "text/plain": [
       "<Figure size 432x288 with 1 Axes>"
      ]
     },
     "metadata": {
      "needs_background": "light"
     },
     "output_type": "display_data"
    }
   ],
   "source": [
    "# randomly see any image\n",
    "img = cv2.imread(files[4710])\n",
    "plt.imshow(img)\n"
   ]
  },
  {
   "cell_type": "code",
   "execution_count": 5,
   "metadata": {
    "colab": {},
    "colab_type": "code",
    "id": "VqTDJkcmj1KU"
   },
   "outputs": [],
   "source": [
    "# build the CNN architecture for the model\n",
    "i = Input(shape=(32,32,1))\n",
    "x = Conv2D(32, (3,3), padding='same', activation='relu')(i)\n",
    "x = MaxPool2D((2,2))(x)\n",
    "x = Conv2D(32, (3,3), padding='same', activation='relu')(x)\n",
    "x = MaxPool2D((2,2))(x)\n",
    "x = Dropout(0.2)(x)\n",
    "x = Flatten()(x)\n",
    "x = Dense(128, activation='relu')(x)\n",
    "x = Dense(256, activation='relu')(x)\n",
    "x = Dense(14, activation='softmax')(x)\n",
    "\n",
    "model = Model(i,x)"
   ]
  },
  {
   "cell_type": "code",
   "execution_count": 6,
   "metadata": {
    "colab": {},
    "colab_type": "code",
    "id": "UYgr5M_9lJar"
   },
   "outputs": [],
   "source": [
    "gen = ImageDataGenerator(rescale=1/255.0)"
   ]
  },
  {
   "cell_type": "code",
   "execution_count": 7,
   "metadata": {
    "colab": {
     "base_uri": "https://localhost:8080/",
     "height": 34
    },
    "colab_type": "code",
    "id": "6bP2Go49lqb6",
    "outputId": "eba867e8-56c0-490e-d34d-43940598c7e3"
   },
   "outputs": [
    {
     "name": "stdout",
     "output_type": "stream",
     "text": [
      "Found 47827 images belonging to 14 classes.\n"
     ]
    }
   ],
   "source": [
    "\n",
    "train_gen = gen.flow_from_directory(folder_path,\n",
    "                                    target_size = (32,32),\n",
    "                                    color_mode = 'grayscale',\n",
    "                                    class_mode = 'categorical',\n",
    "                                    batch_size= 64,\n",
    "                                    shuffle=True)"
   ]
  },
  {
   "cell_type": "code",
   "execution_count": 9,
   "metadata": {
    "colab": {
     "base_uri": "https://localhost:8080/",
     "height": 428
    },
    "colab_type": "code",
    "id": "M3FkAHF9mD78",
    "outputId": "f5d32680-5165-4f41-9eea-85ea8c428774"
   },
   "outputs": [
    {
     "name": "stdout",
     "output_type": "stream",
     "text": [
      "Epoch 1/10\n",
      "747/747 [==============================] - 947s 1s/step - loss: 0.0253 - accuracy: 0.9922\n",
      "Epoch 2/10\n",
      "747/747 [==============================] - 748s 1s/step - loss: 0.0243 - accuracy: 0.9928\n",
      "Epoch 3/10\n",
      "747/747 [==============================] - 1199s 2s/step - loss: 0.0208 - accuracy: 0.9936\n",
      "Epoch 4/10\n",
      "747/747 [==============================] - 632s 846ms/step - loss: 0.0193 - accuracy: 0.9942\n",
      "Epoch 5/10\n",
      "747/747 [==============================] - 66s 88ms/step - loss: 0.0197 - accuracy: 0.9936\n",
      "Epoch 6/10\n",
      "747/747 [==============================] - 67s 89ms/step - loss: 0.0201 - accuracy: 0.9938\n",
      "Epoch 7/10\n",
      "747/747 [==============================] - 84s 113ms/step - loss: 0.0175 - accuracy: 0.9948\n",
      "Epoch 8/10\n",
      "747/747 [==============================] - 67s 90ms/step - loss: 0.0171 - accuracy: 0.9945\n",
      "Epoch 9/10\n",
      "747/747 [==============================] - 73s 98ms/step - loss: 0.0148 - accuracy: 0.9955\n",
      "Epoch 10/10\n",
      "747/747 [==============================] - 77s 103ms/step - loss: 0.0153 - accuracy: 0.9956\n"
     ]
    }
   ],
   "source": [
    "model.compile(optimizer='adam', loss='categorical_crossentropy', metrics=['accuracy'])\n",
    "\n",
    "r = model.fit_generator(train_gen,\n",
    "                        steps_per_epoch = len(train_gen.filenames)//64,\n",
    "                        epochs = 10,\n",
    "                        )"
   ]
  },
  {
   "cell_type": "code",
   "execution_count": 11,
   "metadata": {
    "colab": {},
    "colab_type": "code",
    "id": "esGU_C8gnbTL"
   },
   "outputs": [],
   "source": [
    "model.save(\"num_detect2nd.h5\")"
   ]
  },
  {
   "cell_type": "code",
   "execution_count": 13,
   "metadata": {
    "colab": {
     "base_uri": "https://localhost:8080/",
     "height": 255
    },
    "colab_type": "code",
    "id": "cmXTrV73oNQj",
    "outputId": "af86487a-b4d1-46f6-c158-2b3f730df97c"
   },
   "outputs": [
    {
     "data": {
      "text/plain": [
       "{'+': 0,\n",
       " '-': 1,\n",
       " '0': 2,\n",
       " '1': 3,\n",
       " '2': 4,\n",
       " '3': 5,\n",
       " '4': 6,\n",
       " '5': 7,\n",
       " '6': 8,\n",
       " '7': 9,\n",
       " '8': 10,\n",
       " '9': 11,\n",
       " 'forward_slash': 12,\n",
       " 'multiplication': 13}"
      ]
     },
     "execution_count": 13,
     "metadata": {},
     "output_type": "execute_result"
    }
   ],
   "source": [
    "train_gen.class_indices"
   ]
  },
  {
   "cell_type": "code",
   "execution_count": 12,
   "metadata": {
    "colab": {},
    "colab_type": "code",
    "id": "xN1LTU_UoT--"
   },
   "outputs": [
    {
     "ename": "NameError",
     "evalue": "name 'remove_small_contours' is not defined",
     "output_type": "error",
     "traceback": [
      "\u001b[1;31m---------------------------------------------------------------------------\u001b[0m",
      "\u001b[1;31mNameError\u001b[0m                                 Traceback (most recent call last)",
      "\u001b[1;32m<ipython-input-12-238bac81beed>\u001b[0m in \u001b[0;36m<module>\u001b[1;34m\u001b[0m\n\u001b[0;32m     19\u001b[0m \u001b[1;33m\u001b[0m\u001b[0m\n\u001b[0;32m     20\u001b[0m \u001b[1;31m# remove small blobs if any\u001b[0m\u001b[1;33m\u001b[0m\u001b[1;33m\u001b[0m\u001b[1;33m\u001b[0m\u001b[0m\n\u001b[1;32m---> 21\u001b[1;33m \u001b[0mprocessed_contours\u001b[0m \u001b[1;33m=\u001b[0m \u001b[0mremove_small_contours\u001b[0m\u001b[1;33m(\u001b[0m\u001b[0mrects\u001b[0m\u001b[1;33m)\u001b[0m\u001b[1;33m\u001b[0m\u001b[1;33m\u001b[0m\u001b[0m\n\u001b[0m\u001b[0;32m     22\u001b[0m \u001b[1;31m# sort the contours from left to right so that the model predicts the digtis/operators in order\u001b[0m\u001b[1;33m\u001b[0m\u001b[1;33m\u001b[0m\u001b[1;33m\u001b[0m\u001b[0m\n\u001b[0;32m     23\u001b[0m \u001b[0msorted_contours\u001b[0m \u001b[1;33m=\u001b[0m \u001b[0msorted\u001b[0m\u001b[1;33m(\u001b[0m\u001b[0mprocessed_contours\u001b[0m\u001b[1;33m)\u001b[0m\u001b[1;33m\u001b[0m\u001b[1;33m\u001b[0m\u001b[0m\n",
      "\u001b[1;31mNameError\u001b[0m: name 'remove_small_contours' is not defined"
     ]
    }
   ],
   "source": []
  },
  {
   "cell_type": "code",
   "execution_count": null,
   "metadata": {},
   "outputs": [],
   "source": []
  }
 ],
 "metadata": {
  "accelerator": "GPU",
  "colab": {
   "authorship_tag": "ABX9TyMeP8rX9vD2TAj1whyhxrhZ",
   "collapsed_sections": [],
   "include_colab_link": true,
   "mount_file_id": "19DhHDbTICzLRGsRP3lP2fhIKeCjqKRau",
   "name": "Numbers CNN.ipynb",
   "provenance": []
  },
  "kernelspec": {
   "display_name": "Python 3",
   "language": "python",
   "name": "python3"
  },
  "language_info": {
   "codemirror_mode": {
    "name": "ipython",
    "version": 3
   },
   "file_extension": ".py",
   "mimetype": "text/x-python",
   "name": "python",
   "nbconvert_exporter": "python",
   "pygments_lexer": "ipython3",
   "version": "3.7.6"
  }
 },
 "nbformat": 4,
 "nbformat_minor": 1
}
